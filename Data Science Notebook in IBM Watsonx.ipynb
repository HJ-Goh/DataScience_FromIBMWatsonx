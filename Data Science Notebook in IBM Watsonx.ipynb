{
    "cells": [
        {
            "cell_type": "markdown",
            "metadata": {
                "collapsed": true,
                "id": "745eea4e-4790-4759-bf87-7e4bd248c8dc",
                "jupyter": {
                    "outputs_hidden": true
                }
            },
            "source": "# Data Science Notebook in IBM Watsonx"
        },
        {
            "cell_type": "markdown",
            "metadata": {
                "id": "25fd34e9-ef1c-427f-ab67-4d3a1de0ed8d"
            },
            "source": "Objective : Initial experimentation of publishing Notebook from IBM Watsonx to GitHub"
        },
        {
            "cell_type": "code",
            "execution_count": null,
            "metadata": {
                "id": "eb067e49-ed6b-47f3-ba5f-f9252e27b520"
            },
            "outputs": [],
            "source": ""
        }
    ],
    "metadata": {
        "kernelspec": {
            "display_name": "Python 3.11",
            "language": "python",
            "name": "python3"
        },
        "language_info": {
            "codemirror_mode": {
                "name": "ipython",
                "version": 3
            },
            "file_extension": ".py",
            "mimetype": "text/x-python",
            "name": "python",
            "nbconvert_exporter": "python",
            "pygments_lexer": "ipython3",
            "version": "3.11.9"
        }
    },
    "nbformat": 4,
    "nbformat_minor": 4
}