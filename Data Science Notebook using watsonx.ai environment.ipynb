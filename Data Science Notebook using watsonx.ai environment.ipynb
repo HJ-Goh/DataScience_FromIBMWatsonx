{
    "cells": [
        {
            "cell_type": "markdown",
            "metadata": {
                "collapsed": true,
                "id": "472566c5-0d6e-46d8-8fe4-b1ab97a277e5",
                "jupyter": {
                    "outputs_hidden": true
                }
            },
            "source": "# My Jupyter Notebook on IBM watsonx.ai"
        },
        {
            "cell_type": "markdown",
            "metadata": {
                "id": "41b3a746-2071-4de3-857a-777c0cd24208"
            },
            "source": "GOH HENG JOO \n\nStrong interest to explore career in Data Science"
        },
        {
            "cell_type": "markdown",
            "metadata": {
                "id": "20e1bb2a-b58d-450d-be62-a387b45d6662"
            },
            "source": "I am interested in data science because it aligns with my strength and interest in SQL, experimental type of work nature, and my naturally detailed personality."
        },
        {
            "cell_type": "markdown",
            "metadata": {
                "id": "65de2352-b6a1-44e7-931a-181e31d88354"
            },
            "source": "### The code below demonstrates multiplication"
        },
        {
            "cell_type": "code",
            "execution_count": 1,
            "metadata": {
                "id": "fb95ac5f-9624-48c1-a61d-f09bffbfef15"
            },
            "outputs": [
                {
                    "data": {
                        "text/plain": "42"
                    },
                    "execution_count": 1,
                    "metadata": {},
                    "output_type": "execute_result"
                }
            ],
            "source": "6*7"
        },
        {
            "cell_type": "markdown",
            "metadata": {
                "id": "9d8f2de1-a0a3-41f6-b0f7-83900b955c9b"
            },
            "source": "Below is an example of bulleted list :\n- Item 1\n- Item 2\n- Item 3\n\nBelow is an example of numbered list :\n1.  Item A\n2.  Item B\n3.  Item C\n\nBelow is a table demonstration:\n|No |Languages |\n|-----|------|\n|1|Python|\n|2|Julia|\n|3|SQL|\n\nDemonstrating Hyperlinks with description:\n<a href=\"www.google.com\">Google</a>\n\n"
        },
        {
            "cell_type": "code",
            "execution_count": null,
            "metadata": {
                "id": "5a93aef4-09c2-484f-8e0a-9cbd7e857947"
            },
            "outputs": [],
            "source": ""
        }
    ],
    "metadata": {
        "kernelspec": {
            "display_name": "Python 3.11",
            "language": "python",
            "name": "python3"
        },
        "language_info": {
            "codemirror_mode": {
                "name": "ipython",
                "version": 3
            },
            "file_extension": ".py",
            "mimetype": "text/x-python",
            "name": "python",
            "nbconvert_exporter": "python",
            "pygments_lexer": "ipython3",
            "version": "3.11.9"
        }
    },
    "nbformat": 4,
    "nbformat_minor": 4
}